{
 "cells": [
  {
   "cell_type": "markdown",
   "id": "a478c777",
   "metadata": {},
   "source": [
    "# Integrals on the grid \n",
    "\n",
    "When analysing meshes, integrals always become sums over indices.\n",
    "\n",
    "$\\int$ -> $\\sum$\n",
    "\n",
    "\n",
    "## Exercise:\n",
    "\n",
    "Let's compute some integrated quantities from a 3D wind-cloud simulation, which you can find in Google Drive:\n",
    "\n",
    "https://drive.google.com/drive/folders/13H5bGBQh5UKo2U519praAXAUiYYrugb6?usp=sharing"
   ]
  },
  {
   "cell_type": "code",
   "execution_count": 2,
   "id": "8486a0e9",
   "metadata": {
    "execution": {
     "iopub.execute_input": "2024-10-29T13:23:51.520155Z",
     "iopub.status.busy": "2024-10-29T13:23:51.519790Z",
     "iopub.status.idle": "2024-10-29T13:23:52.512710Z",
     "shell.execute_reply": "2024-10-29T13:23:52.511867Z",
     "shell.execute_reply.started": "2024-10-29T13:23:51.520127Z"
    }
   },
   "outputs": [],
   "source": [
    "import numpy as np\n",
    "import matplotlib.pyplot as plt\n",
    "import pyvista as pv"
   ]
  },
  {
   "cell_type": "markdown",
   "id": "7c46333c",
   "metadata": {},
   "source": [
    "#### 1. Read mesh:"
   ]
  },
  {
   "cell_type": "code",
   "execution_count": 4,
   "id": "b84c57cb",
   "metadata": {
    "execution": {
     "iopub.execute_input": "2024-10-29T13:23:59.952786Z",
     "iopub.status.busy": "2024-10-29T13:23:59.952414Z",
     "iopub.status.idle": "2024-10-29T13:24:00.199985Z",
     "shell.execute_reply": "2024-10-29T13:24:00.198919Z",
     "shell.execute_reply.started": "2024-10-29T13:23:59.952759Z"
    }
   },
   "outputs": [],
   "source": [
    "mesh = pv.read(\"./sample-data/data.0000.vtk\")\n",
    "\n"
   ]
  },
  {
   "cell_type": "markdown",
   "id": "25dea412",
   "metadata": {},
   "source": [
    "#### 2. Check mesh contents:"
   ]
  },
  {
   "cell_type": "code",
   "execution_count": 5,
   "id": "9576ad13",
   "metadata": {
    "execution": {
     "iopub.execute_input": "2024-10-29T13:24:24.394243Z",
     "iopub.status.busy": "2024-10-29T13:24:24.393873Z",
     "iopub.status.idle": "2024-10-29T13:24:24.400434Z",
     "shell.execute_reply": "2024-10-29T13:24:24.399029Z",
     "shell.execute_reply.started": "2024-10-29T13:24:24.394214Z"
    }
   },
   "outputs": [
    {
     "name": "stdout",
     "output_type": "stream",
     "text": [
      "RectilinearGrid (0x7f5184eee7c0)\n",
      "  N Cells:      1769472\n",
      "  N Points:     1815937\n",
      "  X Bounds:     -6.000e+00, 6.000e+00\n",
      "  Y Bounds:     -2.000e+00, 2.200e+01\n",
      "  Z Bounds:     -6.000e+00, 6.000e+00\n",
      "  Dimensions:   97, 193, 97\n",
      "  N Arrays:     9\n"
     ]
    }
   ],
   "source": [
    "print(mesh)"
   ]
  },
  {
   "cell_type": "code",
   "execution_count": 6,
   "id": "4eeedcb0",
   "metadata": {
    "execution": {
     "iopub.execute_input": "2024-10-29T13:26:17.303315Z",
     "iopub.status.busy": "2024-10-29T13:26:17.302924Z",
     "iopub.status.idle": "2024-10-29T13:26:17.309854Z",
     "shell.execute_reply": "2024-10-29T13:26:17.308508Z",
     "shell.execute_reply.started": "2024-10-29T13:26:17.303287Z"
    }
   },
   "outputs": [
    {
     "name": "stdout",
     "output_type": "stream",
     "text": [
      "(97, 193, 97)\n"
     ]
    }
   ],
   "source": [
    "print(mesh.dimensions)"
   ]
  },
  {
   "cell_type": "code",
   "execution_count": 7,
   "id": "ad3a621c",
   "metadata": {
    "execution": {
     "iopub.execute_input": "2024-10-29T13:26:17.602456Z",
     "iopub.status.busy": "2024-10-29T13:26:17.602087Z",
     "iopub.status.idle": "2024-10-29T13:26:17.608290Z",
     "shell.execute_reply": "2024-10-29T13:26:17.607026Z",
     "shell.execute_reply.started": "2024-10-29T13:26:17.602428Z"
    }
   },
   "outputs": [
    {
     "name": "stdout",
     "output_type": "stream",
     "text": [
      "1769472\n"
     ]
    }
   ],
   "source": [
    "print(mesh.n_cells)"
   ]
  },
  {
   "cell_type": "code",
   "execution_count": 8,
   "id": "120473ca",
   "metadata": {
    "execution": {
     "iopub.execute_input": "2024-10-29T13:26:17.882572Z",
     "iopub.status.busy": "2024-10-29T13:26:17.882205Z",
     "iopub.status.idle": "2024-10-29T13:26:17.888270Z",
     "shell.execute_reply": "2024-10-29T13:26:17.886968Z",
     "shell.execute_reply.started": "2024-10-29T13:26:17.882545Z"
    }
   },
   "outputs": [
    {
     "name": "stdout",
     "output_type": "stream",
     "text": [
      "9\n"
     ]
    }
   ],
   "source": [
    "print(mesh.n_arrays)"
   ]
  },
  {
   "cell_type": "code",
   "execution_count": 9,
   "id": "f265a6ce",
   "metadata": {
    "execution": {
     "iopub.execute_input": "2024-10-29T13:26:18.368184Z",
     "iopub.status.busy": "2024-10-29T13:26:18.366963Z",
     "iopub.status.idle": "2024-10-29T13:26:18.373845Z",
     "shell.execute_reply": "2024-10-29T13:26:18.372546Z",
     "shell.execute_reply.started": "2024-10-29T13:26:18.368150Z"
    }
   },
   "outputs": [
    {
     "name": "stdout",
     "output_type": "stream",
     "text": [
      "[0.0, 10.0, 0.0]\n"
     ]
    }
   ],
   "source": [
    "print(mesh.center)"
   ]
  },
  {
   "cell_type": "markdown",
   "id": "d0b125ab",
   "metadata": {},
   "source": [
    "#### 3. Check mesh arrays:"
   ]
  },
  {
   "cell_type": "code",
   "execution_count": 10,
   "id": "50343521",
   "metadata": {
    "execution": {
     "iopub.execute_input": "2024-10-29T13:26:18.953475Z",
     "iopub.status.busy": "2024-10-29T13:26:18.953105Z",
     "iopub.status.idle": "2024-10-29T13:26:18.962226Z",
     "shell.execute_reply": "2024-10-29T13:26:18.960356Z",
     "shell.execute_reply.started": "2024-10-29T13:26:18.953447Z"
    }
   },
   "outputs": [
    {
     "name": "stdout",
     "output_type": "stream",
     "text": [
      "pyvista DataSetAttributes\n",
      "Association     : CELL\n",
      "Active Scalars  : rho\n",
      "Active Vectors  : None\n",
      "Active Texture  : None\n",
      "Active Normals  : None\n",
      "Contains arrays :\n",
      "    rho                     float32    (1769472,)           SCALARS\n",
      "    vx1                     float32    (1769472,)\n",
      "    vx2                     float32    (1769472,)\n",
      "    vx3                     float32    (1769472,)\n",
      "    Bx1                     float32    (1769472,)\n",
      "    Bx2                     float32    (1769472,)\n",
      "    Bx3                     float32    (1769472,)\n",
      "    prs                     float32    (1769472,)\n",
      "    tr1                     float32    (1769472,)\n"
     ]
    }
   ],
   "source": [
    "print(mesh.cell_data)"
   ]
  },
  {
   "cell_type": "markdown",
   "id": "45212488",
   "metadata": {},
   "source": [
    "#### 4. Read the density and pigment arrays:"
   ]
  },
  {
   "cell_type": "code",
   "execution_count": 11,
   "id": "0ace34fe",
   "metadata": {
    "execution": {
     "iopub.execute_input": "2024-10-29T13:26:21.765702Z",
     "iopub.status.busy": "2024-10-29T13:26:21.765335Z",
     "iopub.status.idle": "2024-10-29T13:26:21.773084Z",
     "shell.execute_reply": "2024-10-29T13:26:21.771547Z",
     "shell.execute_reply.started": "2024-10-29T13:26:21.765675Z"
    }
   },
   "outputs": [],
   "source": [
    "# Density\n",
    "rho = pv.get_array(mesh, \"rho\", preference = \"cell\")\n",
    "\n",
    "# Pigment\n",
    "tr1 = pv.get_array(mesh, \"tr1\", preference = \"cell\")"
   ]
  },
  {
   "cell_type": "code",
   "execution_count": 12,
   "id": "71ec6c73",
   "metadata": {
    "execution": {
     "iopub.execute_input": "2024-10-29T13:26:23.496010Z",
     "iopub.status.busy": "2024-10-29T13:26:23.495641Z",
     "iopub.status.idle": "2024-10-29T13:26:23.502139Z",
     "shell.execute_reply": "2024-10-29T13:26:23.500796Z",
     "shell.execute_reply.started": "2024-10-29T13:26:23.495983Z"
    }
   },
   "outputs": [
    {
     "name": "stdout",
     "output_type": "stream",
     "text": [
      "(1769472,)\n"
     ]
    }
   ],
   "source": [
    "print(rho.shape)"
   ]
  },
  {
   "cell_type": "code",
   "execution_count": 13,
   "id": "43e01e35",
   "metadata": {
    "execution": {
     "iopub.execute_input": "2024-10-29T13:26:24.143862Z",
     "iopub.status.busy": "2024-10-29T13:26:24.143488Z",
     "iopub.status.idle": "2024-10-29T13:26:24.149673Z",
     "shell.execute_reply": "2024-10-29T13:26:24.148251Z",
     "shell.execute_reply.started": "2024-10-29T13:26:24.143834Z"
    }
   },
   "outputs": [
    {
     "name": "stdout",
     "output_type": "stream",
     "text": [
      "96\n"
     ]
    }
   ],
   "source": [
    "print(mesh.dimensions[2] - 1)"
   ]
  },
  {
   "cell_type": "markdown",
   "id": "3ac41392",
   "metadata": {},
   "source": [
    "#### 5. Convert arrays from 1D to 3D:"
   ]
  },
  {
   "cell_type": "code",
   "execution_count": 14,
   "id": "401a0d8d",
   "metadata": {
    "execution": {
     "iopub.execute_input": "2024-10-29T13:27:17.432945Z",
     "iopub.status.busy": "2024-10-29T13:27:17.432567Z",
     "iopub.status.idle": "2024-10-29T13:27:17.439431Z",
     "shell.execute_reply": "2024-10-29T13:27:17.437860Z",
     "shell.execute_reply.started": "2024-10-29T13:27:17.432918Z"
    }
   },
   "outputs": [
    {
     "name": "stdout",
     "output_type": "stream",
     "text": [
      "(97, 193, 97)\n"
     ]
    }
   ],
   "source": [
    "print(mesh.dimensions)"
   ]
  },
  {
   "cell_type": "code",
   "execution_count": 15,
   "id": "71434616",
   "metadata": {
    "execution": {
     "iopub.execute_input": "2024-10-29T13:27:18.242720Z",
     "iopub.status.busy": "2024-10-29T13:27:18.242353Z",
     "iopub.status.idle": "2024-10-29T13:27:18.249788Z",
     "shell.execute_reply": "2024-10-29T13:27:18.248276Z",
     "shell.execute_reply.started": "2024-10-29T13:27:18.242692Z"
    }
   },
   "outputs": [],
   "source": [
    "rho3D = rho.reshape(mesh.dimensions[0] - 1, mesh.dimensions[1] - 1, mesh.dimensions[2] - 1)\n",
    "\n",
    "tr13D = tr1.reshape(mesh.dimensions[0] - 1, mesh.dimensions[1] - 1, mesh.dimensions[2] - 1)"
   ]
  },
  {
   "cell_type": "code",
   "execution_count": 16,
   "id": "1adae257",
   "metadata": {
    "execution": {
     "iopub.execute_input": "2024-10-29T13:27:52.877511Z",
     "iopub.status.busy": "2024-10-29T13:27:52.877085Z",
     "iopub.status.idle": "2024-10-29T13:27:52.883551Z",
     "shell.execute_reply": "2024-10-29T13:27:52.882156Z",
     "shell.execute_reply.started": "2024-10-29T13:27:52.877481Z"
    }
   },
   "outputs": [
    {
     "name": "stdout",
     "output_type": "stream",
     "text": [
      "(96, 192, 96)\n"
     ]
    }
   ],
   "source": [
    "print(rho3D.shape)"
   ]
  },
  {
   "cell_type": "markdown",
   "id": "0cfb4688",
   "metadata": {},
   "source": [
    "#### 6. Slice 3D data:"
   ]
  },
  {
   "cell_type": "code",
   "execution_count": 17,
   "id": "cb4030eb",
   "metadata": {
    "execution": {
     "iopub.execute_input": "2024-10-29T13:31:31.710280Z",
     "iopub.status.busy": "2024-10-29T13:31:31.709811Z",
     "iopub.status.idle": "2024-10-29T13:31:31.717935Z",
     "shell.execute_reply": "2024-10-29T13:31:31.716191Z",
     "shell.execute_reply.started": "2024-10-29T13:31:31.710250Z"
    }
   },
   "outputs": [
    {
     "name": "stdout",
     "output_type": "stream",
     "text": [
      "48\n"
     ]
    }
   ],
   "source": [
    "slice_n = rho3D.shape[0]//2\n",
    "print(slice_n)\n",
    "\n",
    "rho2D_48 = rho3D[48, :, :]\n",
    "tr12D_48 = tr13D[48, :, :]"
   ]
  },
  {
   "cell_type": "code",
   "execution_count": 18,
   "id": "7baeb788",
   "metadata": {
    "execution": {
     "iopub.execute_input": "2024-10-29T13:31:32.485442Z",
     "iopub.status.busy": "2024-10-29T13:31:32.485078Z",
     "iopub.status.idle": "2024-10-29T13:31:32.491641Z",
     "shell.execute_reply": "2024-10-29T13:31:32.490187Z",
     "shell.execute_reply.started": "2024-10-29T13:31:32.485414Z"
    }
   },
   "outputs": [
    {
     "name": "stdout",
     "output_type": "stream",
     "text": [
      "(192, 96)\n"
     ]
    }
   ],
   "source": [
    "print(rho2D_48.shape)"
   ]
  },
  {
   "cell_type": "code",
   "execution_count": 19,
   "id": "8ff56067",
   "metadata": {
    "execution": {
     "iopub.execute_input": "2024-10-29T13:31:33.022489Z",
     "iopub.status.busy": "2024-10-29T13:31:33.020270Z",
     "iopub.status.idle": "2024-10-29T13:31:33.133474Z",
     "shell.execute_reply": "2024-10-29T13:31:33.132202Z",
     "shell.execute_reply.started": "2024-10-29T13:31:33.022453Z"
    }
   },
   "outputs": [
    {
     "data": {
      "text/plain": [
       "<matplotlib.image.AxesImage at 0x7f51809ef1c0>"
      ]
     },
     "execution_count": 19,
     "metadata": {},
     "output_type": "execute_result"
    },
    {
     "data": {
      "image/png": "[encoded data removed]",
      "text/plain": [
       "<Figure size 640x480 with 1 Axes>"
      ]
     },
     "metadata": {},
     "output_type": "display_data"
    }
   ],
   "source": [
    "# Python reverses the axes:\n",
    "\n",
    "%matplotlib inline\n",
    "\n",
    "plt.imshow(rho2D_48)"
   ]
  },
  {
   "cell_type": "markdown",
   "id": "79267d8e",
   "metadata": {},
   "source": [
    "#### 7. Create coordinate vectors for mesh grid"
   ]
  },
  {
   "cell_type": "code",
   "execution_count": 20,
   "id": "d432d42e",
   "metadata": {
    "execution": {
     "iopub.execute_input": "2024-10-29T13:40:50.978300Z",
     "iopub.status.busy": "2024-10-29T13:40:50.977713Z",
     "iopub.status.idle": "2024-10-29T13:40:50.985825Z",
     "shell.execute_reply": "2024-10-29T13:40:50.984351Z",
     "shell.execute_reply.started": "2024-10-29T13:40:50.978266Z"
    }
   },
   "outputs": [
    {
     "name": "stdout",
     "output_type": "stream",
     "text": [
      "-6.0\n",
      "6.0\n",
      "-2.0\n",
      "22.0\n",
      "-6.0\n",
      "6.0\n"
     ]
    }
   ],
   "source": [
    "# Print mesh bounds:\n",
    "\n",
    "print(mesh.bounds[0])\n",
    "print(mesh.bounds[1])\n",
    "print(mesh.bounds[2])\n",
    "print(mesh.bounds[3])\n",
    "print(mesh.bounds[4])\n",
    "print(mesh.bounds[5])"
   ]
  },
  {
   "cell_type": "code",
   "execution_count": 21,
   "id": "955daf6c",
   "metadata": {
    "execution": {
     "iopub.execute_input": "2024-10-29T13:40:53.049497Z",
     "iopub.status.busy": "2024-10-29T13:40:53.049137Z",
     "iopub.status.idle": "2024-10-29T13:40:53.058448Z",
     "shell.execute_reply": "2024-10-29T13:40:53.056723Z",
     "shell.execute_reply.started": "2024-10-29T13:40:53.049472Z"
    }
   },
   "outputs": [],
   "source": [
    "# Get coordinates - first manner:\n",
    "x = np.linspace(mesh.bounds[0], mesh.bounds[1], mesh.dimensions[0] - 1)\n",
    "y = np.linspace(mesh.bounds[2], mesh.bounds[3], mesh.dimensions[1] - 1)\n",
    "z = np.linspace(mesh.bounds[4], mesh.bounds[5], mesh.dimensions[2] - 1)\n",
    "\n",
    "# Get coordinates - second manner:\n",
    "xx = np.linspace(mesh.bounds[0], mesh.bounds[1], (mesh.dimensions[0]))\n",
    "yy = np.linspace(mesh.bounds[2], mesh.bounds[3], (mesh.dimensions[1]))\n",
    "zz = np.linspace(mesh.bounds[4], mesh.bounds[5], (mesh.dimensions[2]))"
   ]
  },
  {
   "cell_type": "code",
   "execution_count": 24,
   "id": "c3c01b6d",
   "metadata": {
    "execution": {
     "iopub.execute_input": "2024-10-29T13:42:43.822206Z",
     "iopub.status.busy": "2024-10-29T13:42:43.821741Z",
     "iopub.status.idle": "2024-10-29T13:42:43.829650Z",
     "shell.execute_reply": "2024-10-29T13:42:43.827915Z",
     "shell.execute_reply.started": "2024-10-29T13:42:43.822175Z"
    }
   },
   "outputs": [
    {
     "name": "stdout",
     "output_type": "stream",
     "text": [
      "0.1263157894736846 0.12565445026178002 0.1263157894736846\n"
     ]
    }
   ],
   "source": [
    "# Get dx, dy, dz\n",
    "\n",
    "dx = x[1] - x[0]\n",
    "dy = y[1] - y[0]\n",
    "dz = z[1] - z[0]\n",
    "\n",
    "print(dx, dy, dz)\n",
    "\n",
    "# We can see below that this results in a non-evenly spaced grid\n",
    "\n",
    "#Could happen that is missing data or a number"
   ]
  },
  {
   "cell_type": "code",
   "execution_count": 26,
   "id": "62a67b12-f2a2-4921-9a45-b9d11add0bac",
   "metadata": {
    "execution": {
     "iopub.execute_input": "2024-10-29T13:43:49.193284Z",
     "iopub.status.busy": "2024-10-29T13:43:49.192668Z",
     "iopub.status.idle": "2024-10-29T13:43:49.199953Z",
     "shell.execute_reply": "2024-10-29T13:43:49.198658Z",
     "shell.execute_reply.started": "2024-10-29T13:43:49.193252Z"
    }
   },
   "outputs": [
    {
     "name": "stdout",
     "output_type": "stream",
     "text": [
      "0.125\n"
     ]
    }
   ],
   "source": [
    "print(12./96.)"
   ]
  },
  {
   "cell_type": "code",
   "execution_count": 27,
   "id": "9aabec36",
   "metadata": {
    "execution": {
     "iopub.execute_input": "2024-10-29T13:43:58.089486Z",
     "iopub.status.busy": "2024-10-29T13:43:58.089084Z",
     "iopub.status.idle": "2024-10-29T13:43:58.096558Z",
     "shell.execute_reply": "2024-10-29T13:43:58.094911Z",
     "shell.execute_reply.started": "2024-10-29T13:43:58.089454Z"
    }
   },
   "outputs": [
    {
     "name": "stdout",
     "output_type": "stream",
     "text": [
      "0.125 0.125 0.125\n"
     ]
    }
   ],
   "source": [
    "# Get dx, dy, dz\n",
    "\n",
    "dxx = xx[1] - xx[0]\n",
    "dyy = yy[1] - yy[0]\n",
    "dzz = zz[1] - zz[0]\n",
    "\n",
    "print(dxx, dyy, dzz)\n",
    "\n",
    "# We can see below that this results in an evenly spaced grid"
   ]
  },
  {
   "cell_type": "markdown",
   "id": "6dbbd532",
   "metadata": {},
   "source": [
    "#### 8. Create mesh grid:"
   ]
  },
  {
   "cell_type": "code",
   "execution_count": 28,
   "id": "28af25a6",
   "metadata": {
    "execution": {
     "iopub.execute_input": "2024-10-29T13:44:00.794165Z",
     "iopub.status.busy": "2024-10-29T13:44:00.793796Z",
     "iopub.status.idle": "2024-10-29T13:44:00.802092Z",
     "shell.execute_reply": "2024-10-29T13:44:00.800316Z",
     "shell.execute_reply.started": "2024-10-29T13:44:00.794138Z"
    }
   },
   "outputs": [],
   "source": [
    "X, Y = np.meshgrid(xx, yy)"
   ]
  },
  {
   "cell_type": "code",
   "execution_count": 29,
   "id": "12d63c72",
   "metadata": {
    "execution": {
     "iopub.execute_input": "2024-10-29T13:44:01.234359Z",
     "iopub.status.busy": "2024-10-29T13:44:01.233997Z",
     "iopub.status.idle": "2024-10-29T13:44:01.241176Z",
     "shell.execute_reply": "2024-10-29T13:44:01.239798Z",
     "shell.execute_reply.started": "2024-10-29T13:44:01.234333Z"
    }
   },
   "outputs": [
    {
     "name": "stdout",
     "output_type": "stream",
     "text": [
      "(193, 97)\n",
      "(193, 97)\n"
     ]
    }
   ],
   "source": [
    "print(X.shape)\n",
    "print(Y.shape)"
   ]
  },
  {
   "cell_type": "markdown",
   "id": "efbe563f",
   "metadata": {},
   "source": [
    "#### 9. Plot mid-plane slice:"
   ]
  },
  {
   "cell_type": "code",
   "execution_count": 30,
   "id": "f05e3e35",
   "metadata": {
    "execution": {
     "iopub.execute_input": "2024-10-29T13:44:02.138711Z",
     "iopub.status.busy": "2024-10-29T13:44:02.138344Z",
     "iopub.status.idle": "2024-10-29T13:44:02.321168Z",
     "shell.execute_reply": "2024-10-29T13:44:02.320611Z",
     "shell.execute_reply.started": "2024-10-29T13:44:02.138684Z"
    }
   },
   "outputs": [
    {
     "data": {
      "image/png": "[encoded data removed]",
      "text/plain": [
       "<Figure size 200x300 with 2 Axes>"
      ]
     },
     "metadata": {},
     "output_type": "display_data"
    }
   ],
   "source": [
    "plt.figure(figsize = (2, 3))\n",
    "\n",
    "Z = plt.pcolor(X, Y, np.log10(rho2D_48), shading='auto')\n",
    "\n",
    "plt.colorbar(Z)\n",
    "\n",
    "plt.show()"
   ]
  },
  {
   "cell_type": "code",
   "execution_count": 31,
   "id": "ebce8b1c",
   "metadata": {
    "execution": {
     "iopub.execute_input": "2024-10-29T13:44:03.518595Z",
     "iopub.status.busy": "2024-10-29T13:44:03.518152Z",
     "iopub.status.idle": "2024-10-29T13:44:03.779707Z",
     "shell.execute_reply": "2024-10-29T13:44:03.778292Z",
     "shell.execute_reply.started": "2024-10-29T13:44:03.518564Z"
    }
   },
   "outputs": [
    {
     "data": {
      "image/png": "[encoded data removed]",
      "text/plain": [
       "<Figure size 200x300 with 2 Axes>"
      ]
     },
     "metadata": {},
     "output_type": "display_data"
    }
   ],
   "source": [
    "plt.figure(figsize = (2, 3))\n",
    "\n",
    "Z = plt.pcolor(X, Y, tr12D_48, shading='auto', cmap = 'Reds')\n",
    "\n",
    "plt.colorbar(Z)\n",
    "\n",
    "plt.show()"
   ]
  },
  {
   "cell_type": "markdown",
   "id": "5668297e",
   "metadata": {},
   "source": [
    "#### 9. Plot first-plane slice:"
   ]
  },
  {
   "cell_type": "code",
   "execution_count": 32,
   "id": "269fa840",
   "metadata": {
    "execution": {
     "iopub.execute_input": "2024-10-29T13:45:09.210353Z",
     "iopub.status.busy": "2024-10-29T13:45:09.209973Z",
     "iopub.status.idle": "2024-10-29T13:45:09.215927Z",
     "shell.execute_reply": "2024-10-29T13:45:09.214950Z",
     "shell.execute_reply.started": "2024-10-29T13:45:09.210324Z"
    }
   },
   "outputs": [],
   "source": [
    "rho2D_00 = rho3D[0, :, :]\n",
    "tr12D_00 = tr13D[0, :, :]"
   ]
  },
  {
   "cell_type": "code",
   "execution_count": 33,
   "id": "212cbab8",
   "metadata": {
    "execution": {
     "iopub.execute_input": "2024-10-29T13:45:10.142252Z",
     "iopub.status.busy": "2024-10-29T13:45:10.141877Z",
     "iopub.status.idle": "2024-10-29T13:45:10.271821Z",
     "shell.execute_reply": "2024-10-29T13:45:10.271048Z",
     "shell.execute_reply.started": "2024-10-29T13:45:10.142224Z"
    }
   },
   "outputs": [
    {
     "data": {
      "image/png": "[encoded data removed]",
      "text/plain": [
       "<Figure size 200x300 with 2 Axes>"
      ]
     },
     "metadata": {},
     "output_type": "display_data"
    }
   ],
   "source": [
    "plt.figure(figsize = (2, 3))\n",
    "\n",
    "Z = plt.pcolor(X, Y, np.log10(rho2D_00), shading='auto')\n",
    "\n",
    "plt.colorbar(Z)\n",
    "\n",
    "plt.show()"
   ]
  },
  {
   "cell_type": "code",
   "execution_count": 34,
   "id": "69904821",
   "metadata": {
    "execution": {
     "iopub.execute_input": "2024-10-29T13:45:59.863524Z",
     "iopub.status.busy": "2024-10-29T13:45:59.863172Z",
     "iopub.status.idle": "2024-10-29T13:46:00.008741Z",
     "shell.execute_reply": "2024-10-29T13:46:00.007867Z",
     "shell.execute_reply.started": "2024-10-29T13:45:59.863499Z"
    }
   },
   "outputs": [
    {
     "data": {
      "image/png": "[encoded data removed]",
      "text/plain": [
       "<Figure size 200x300 with 2 Axes>"
      ]
     },
     "metadata": {},
     "output_type": "display_data"
    }
   ],
   "source": [
    "plt.figure(figsize = (2, 3))\n",
    "\n",
    "Z = plt.pcolor(X, Y, tr12D_00, shading='auto', cmap = 'Reds')\n",
    "\n",
    "plt.colorbar(Z)\n",
    "\n",
    "plt.show()"
   ]
  },
  {
   "cell_type": "markdown",
   "id": "ebf8fc30",
   "metadata": {},
   "source": [
    "## Integrated quantities\n",
    "\n",
    "### Example 1:\n",
    "\n",
    "Compute the mass:\n",
    "\n",
    "$M = \\int\\int\\int \\rho\\,dV = \\sum_i \\sum_j \\sum_k \\rho_{i,j,k}\\Delta V_{i,j,k}$\n",
    "\n",
    "The grid is uniform:\n",
    "\n",
    "$M = \\int\\int\\int \\rho\\,dV = \\Delta V\\,\\sum_i \\sum_j \\sum_k \\rho_{i,j,k}$\n",
    "\n",
    "$M = \\Delta x^3\\,\\sum_i \\sum_j \\sum_k \\rho_{i,j,k}$"
   ]
  },
  {
   "cell_type": "code",
   "execution_count": 35,
   "id": "24ac821c",
   "metadata": {
    "execution": {
     "iopub.execute_input": "2024-10-29T13:48:48.312193Z",
     "iopub.status.busy": "2024-10-29T13:48:48.311715Z",
     "iopub.status.idle": "2024-10-29T13:48:48.320777Z",
     "shell.execute_reply": "2024-10-29T13:48:48.319349Z",
     "shell.execute_reply.started": "2024-10-29T13:48:48.312162Z"
    }
   },
   "outputs": [
    {
     "name": "stdout",
     "output_type": "stream",
     "text": [
      "0.125 0.125 0.125\n"
     ]
    }
   ],
   "source": [
    "# Delta x\n",
    "\n",
    "print(dxx, dyy, dzz)"
   ]
  },
  {
   "cell_type": "code",
   "execution_count": 36,
   "id": "9b42c856",
   "metadata": {
    "execution": {
     "iopub.execute_input": "2024-10-29T13:48:48.699503Z",
     "iopub.status.busy": "2024-10-29T13:48:48.699142Z",
     "iopub.status.idle": "2024-10-29T13:48:48.705680Z",
     "shell.execute_reply": "2024-10-29T13:48:48.704110Z",
     "shell.execute_reply.started": "2024-10-29T13:48:48.699476Z"
    }
   },
   "outputs": [],
   "source": [
    "# mass - first manner\n",
    "\n",
    "total_mass = np.sum(rho3D)*dxx**3"
   ]
  },
  {
   "cell_type": "code",
   "execution_count": 37,
   "id": "95bf4d0f",
   "metadata": {
    "execution": {
     "iopub.execute_input": "2024-10-29T13:48:49.299265Z",
     "iopub.status.busy": "2024-10-29T13:48:49.298901Z",
     "iopub.status.idle": "2024-10-29T13:48:49.304847Z",
     "shell.execute_reply": "2024-10-29T13:48:49.303573Z",
     "shell.execute_reply.started": "2024-10-29T13:48:49.299237Z"
    }
   },
   "outputs": [
    {
     "name": "stdout",
     "output_type": "stream",
     "text": [
      "406.5387878417969\n"
     ]
    }
   ],
   "source": [
    "print(total_mass)"
   ]
  },
  {
   "cell_type": "code",
   "execution_count": 38,
   "id": "1295b22c",
   "metadata": {
    "execution": {
     "iopub.execute_input": "2024-10-29T13:48:49.921957Z",
     "iopub.status.busy": "2024-10-29T13:48:49.921589Z",
     "iopub.status.idle": "2024-10-29T13:48:49.929272Z",
     "shell.execute_reply": "2024-10-29T13:48:49.927908Z",
     "shell.execute_reply.started": "2024-10-29T13:48:49.921929Z"
    }
   },
   "outputs": [],
   "source": [
    "# mass - second manner\n",
    "\n",
    "total_mass1 = (dxx**3)*np.sum(np.sum(np.sum(rho3D, axis = 2), axis =1), axis = 0)"
   ]
  },
  {
   "cell_type": "code",
   "execution_count": 39,
   "id": "f55bf28c",
   "metadata": {
    "execution": {
     "iopub.execute_input": "2024-10-29T13:48:51.659040Z",
     "iopub.status.busy": "2024-10-29T13:48:51.658688Z",
     "iopub.status.idle": "2024-10-29T13:48:51.664986Z",
     "shell.execute_reply": "2024-10-29T13:48:51.663297Z",
     "shell.execute_reply.started": "2024-10-29T13:48:51.659014Z"
    }
   },
   "outputs": [
    {
     "name": "stdout",
     "output_type": "stream",
     "text": [
      "406.53814697265625\n"
     ]
    }
   ],
   "source": [
    "print(total_mass1)"
   ]
  },
  {
   "cell_type": "markdown",
   "id": "6a053aa9",
   "metadata": {},
   "source": [
    "### Example 2:\n",
    "\n",
    "Compute the column density and plot the map:\n",
    "\n",
    "$\\rho_A = \\int \\rho\\,dy = \\sum_j \\rho_{i,j,k}\\Delta y$\n",
    "\n",
    "The grid is uniform:\n",
    "\n",
    "$\\rho_A = \\Delta y\\, \\sum_j \\rho_{i,j,k}$"
   ]
  },
  {
   "cell_type": "code",
   "execution_count": 40,
   "id": "9fc013bb",
   "metadata": {
    "execution": {
     "iopub.execute_input": "2024-10-29T13:50:09.063126Z",
     "iopub.status.busy": "2024-10-29T13:50:09.062618Z",
     "iopub.status.idle": "2024-10-29T13:50:09.069903Z",
     "shell.execute_reply": "2024-10-29T13:50:09.068828Z",
     "shell.execute_reply.started": "2024-10-29T13:50:09.063087Z"
    }
   },
   "outputs": [],
   "source": [
    "# Projected 2D density:\n",
    "\n",
    "rho_A = dyy*np.sum(rho3D, axis = 1)"
   ]
  },
  {
   "cell_type": "code",
   "execution_count": 41,
   "id": "0fdfa326",
   "metadata": {
    "execution": {
     "iopub.execute_input": "2024-10-29T13:50:09.447526Z",
     "iopub.status.busy": "2024-10-29T13:50:09.447148Z",
     "iopub.status.idle": "2024-10-29T13:50:09.453814Z",
     "shell.execute_reply": "2024-10-29T13:50:09.452488Z",
     "shell.execute_reply.started": "2024-10-29T13:50:09.447497Z"
    }
   },
   "outputs": [
    {
     "name": "stdout",
     "output_type": "stream",
     "text": [
      "(96, 96)\n"
     ]
    }
   ],
   "source": [
    "print(rho_A.shape)"
   ]
  },
  {
   "cell_type": "code",
   "execution_count": 42,
   "id": "003c274f",
   "metadata": {
    "execution": {
     "iopub.execute_input": "2024-10-29T13:50:09.731733Z",
     "iopub.status.busy": "2024-10-29T13:50:09.731339Z",
     "iopub.status.idle": "2024-10-29T13:50:09.788897Z",
     "shell.execute_reply": "2024-10-29T13:50:09.788135Z",
     "shell.execute_reply.started": "2024-10-29T13:50:09.731706Z"
    }
   },
   "outputs": [
    {
     "data": {
      "image/png": "[encoded data removed]",
      "text/plain": [
       "<Figure size 300x300 with 1 Axes>"
      ]
     },
     "metadata": {},
     "output_type": "display_data"
    }
   ],
   "source": [
    "# Plotting the map:\n",
    "\n",
    "#plt.imshow(rho_A)\n",
    "\n",
    "plt.figure(figsize = (3, 3))\n",
    "\n",
    "plt.imshow(rho_A)\n",
    "\n",
    "plt.show()"
   ]
  },
  {
   "cell_type": "markdown",
   "id": "277dbbe2",
   "metadata": {},
   "source": [
    "### Example 3:\n",
    "\n",
    "Compute the linear density and plot it:\n",
    "\n",
    "$\\rho_l = \\int \\rho\\,dy\\,dz$"
   ]
  },
  {
   "cell_type": "code",
   "execution_count": 43,
   "id": "0bd30df5",
   "metadata": {
    "execution": {
     "iopub.execute_input": "2024-10-29T13:50:10.708440Z",
     "iopub.status.busy": "2024-10-29T13:50:10.707549Z",
     "iopub.status.idle": "2024-10-29T13:50:10.715945Z",
     "shell.execute_reply": "2024-10-29T13:50:10.714485Z",
     "shell.execute_reply.started": "2024-10-29T13:50:10.708400Z"
    }
   },
   "outputs": [],
   "source": [
    "# Projected linear density:\n",
    "\n",
    "rho_l = dyy**2*np.sum(np.sum(rho3D, axis = 1), axis = 0)"
   ]
  },
  {
   "cell_type": "code",
   "execution_count": 44,
   "id": "46735dc5",
   "metadata": {
    "execution": {
     "iopub.execute_input": "2024-10-29T13:50:12.670340Z",
     "iopub.status.busy": "2024-10-29T13:50:12.669965Z",
     "iopub.status.idle": "2024-10-29T13:50:12.675946Z",
     "shell.execute_reply": "2024-10-29T13:50:12.674617Z",
     "shell.execute_reply.started": "2024-10-29T13:50:12.670312Z"
    }
   },
   "outputs": [
    {
     "name": "stdout",
     "output_type": "stream",
     "text": [
      "(96,)\n"
     ]
    }
   ],
   "source": [
    "print(rho_l.shape)"
   ]
  },
  {
   "cell_type": "code",
   "execution_count": 47,
   "id": "8be983f8",
   "metadata": {
    "execution": {
     "iopub.execute_input": "2024-10-29T13:53:55.500680Z",
     "iopub.status.busy": "2024-10-29T13:53:55.500115Z",
     "iopub.status.idle": "2024-10-29T13:53:55.572723Z",
     "shell.execute_reply": "2024-10-29T13:53:55.571846Z",
     "shell.execute_reply.started": "2024-10-29T13:53:55.500647Z"
    }
   },
   "outputs": [
    {
     "data": {
      "text/plain": [
       "[<matplotlib.lines.Line2D at 0x7f5175b55ac0>]"
      ]
     },
     "execution_count": 47,
     "metadata": {},
     "output_type": "execute_result"
    },
    {
     "data": {
      "image/png": "[encoded data removed]",
      "text/plain": [
       "<Figure size 640x480 with 1 Axes>"
      ]
     },
     "metadata": {},
     "output_type": "display_data"
    }
   ],
   "source": [
    "# Linear density plot:\n",
    "\n",
    "plt.plot(rho_l)"
   ]
  },
  {
   "cell_type": "markdown",
   "id": "fea6c185",
   "metadata": {},
   "source": [
    "### Example 4:  Centre of mass\n",
    "\n",
    "Compute the centre of mass considering all the gas in the computational domain:\n",
    "\n",
    "\n",
    "$cm_x = \\frac{\\int \\rho\\,x\\,dV}{\\int \\rho\\,dV}$\n",
    "\n",
    "$cm_y = \\frac{\\int \\rho\\,y\\,dV}{\\int \\rho\\,dV}$\n",
    "\n",
    "$cm_z = \\frac{\\int \\rho\\,z\\,dV}{\\int \\rho\\,dV}$\n"
   ]
  },
  {
   "cell_type": "code",
   "execution_count": 48,
   "id": "dadf506e",
   "metadata": {
    "execution": {
     "iopub.execute_input": "2024-10-29T13:53:56.629038Z",
     "iopub.status.busy": "2024-10-29T13:53:56.628707Z",
     "iopub.status.idle": "2024-10-29T13:53:56.638740Z",
     "shell.execute_reply": "2024-10-29T13:53:56.637682Z",
     "shell.execute_reply.started": "2024-10-29T13:53:56.629013Z"
    }
   },
   "outputs": [],
   "source": [
    "cmx = np.sum(np.sum(np.sum(rho3D,axis=2),axis=1)*(x))/np.sum(rho3D) \n",
    "\n",
    "cmy = np.sum(np.sum(np.sum(rho3D,axis=2),axis=0)*(y))/np.sum(rho3D) \n",
    "\n",
    "cmz = np.sum(np.sum(np.sum(rho3D,axis=1),axis=0)*(z))/np.sum(rho3D) "
   ]
  },
  {
   "cell_type": "code",
   "execution_count": 49,
   "id": "8108813d",
   "metadata": {
    "execution": {
     "iopub.execute_input": "2024-10-29T13:53:57.007906Z",
     "iopub.status.busy": "2024-10-29T13:53:57.007542Z",
     "iopub.status.idle": "2024-10-29T13:53:57.013643Z",
     "shell.execute_reply": "2024-10-29T13:53:57.012384Z",
     "shell.execute_reply.started": "2024-10-29T13:53:57.007878Z"
    }
   },
   "outputs": [
    {
     "name": "stdout",
     "output_type": "stream",
     "text": [
      "1.7477858374404495e-16 8.493178390076352 2.4469001724166293e-16\n"
     ]
    }
   ],
   "source": [
    "print(cmx, cmy, cmz)"
   ]
  },
  {
   "cell_type": "markdown",
   "id": "e7d46aa7",
   "metadata": {},
   "source": [
    "### Example 5:  Cloud centre of mass\n",
    "\n",
    "Compute the cloud's centre of mass considering only cloud gas in the computational domain:\n",
    "\n",
    "**Hint:** Remember that cloud gas is tracked by a pigment ($C$, array tr1).\n",
    "\n",
    "\n",
    "$cm_x = \\frac{\\int \\rho\\, C\\,x\\,dV}{\\int \\rho\\,C\\,dV}$\n",
    "\n",
    "$cm_y = \\frac{\\int \\rho\\, C\\,y\\,dV}{\\int \\rho\\,C\\,dV}$\n",
    "\n",
    "$cm_z = \\frac{\\int \\rho\\, C\\,z\\,dV}{\\int \\rho\\,C\\,dV}$\n"
   ]
  },
  {
   "cell_type": "code",
   "execution_count": 50,
   "id": "275db2b1",
   "metadata": {
    "execution": {
     "iopub.execute_input": "2024-10-29T13:53:57.850687Z",
     "iopub.status.busy": "2024-10-29T13:53:57.850316Z",
     "iopub.status.idle": "2024-10-29T13:53:57.857390Z",
     "shell.execute_reply": "2024-10-29T13:53:57.855960Z",
     "shell.execute_reply.started": "2024-10-29T13:53:57.850660Z"
    }
   },
   "outputs": [],
   "source": [
    "x_mid = 0.5*(xx[1:] + xx[:-1])\n",
    "y_mid = 0.5*(yy[1:] + yy[:-1])\n",
    "z_mid = 0.5*(zz[1:] + zz[:-1])"
   ]
  },
  {
   "cell_type": "markdown",
   "id": "42bed9da",
   "metadata": {},
   "source": [
    "#### Using x, y, z, we get a small deviation from zero at t=0:"
   ]
  },
  {
   "cell_type": "code",
   "execution_count": 51,
   "id": "21c10000",
   "metadata": {
    "execution": {
     "iopub.execute_input": "2024-10-29T13:53:58.610524Z",
     "iopub.status.busy": "2024-10-29T13:53:58.610156Z",
     "iopub.status.idle": "2024-10-29T13:53:58.631518Z",
     "shell.execute_reply": "2024-10-29T13:53:58.629873Z",
     "shell.execute_reply.started": "2024-10-29T13:53:58.610496Z"
    }
   },
   "outputs": [],
   "source": [
    "#Centre of mass - first\n",
    "\n",
    "cmx_c = np.sum(np.sum(np.sum(rho3D*tr13D,axis=2),axis=1)*(x))/np.sum(rho3D*tr13D)\n",
    "cmy_c = np.sum(np.sum(np.sum(rho3D*tr13D,axis=2),axis=0)*(y))/np.sum(rho3D*tr13D)\n",
    "cmz_c = np.sum(np.sum(np.sum(rho3D*tr13D,axis=1),axis=0)*(z))/np.sum(rho3D*tr13D) "
   ]
  },
  {
   "cell_type": "code",
   "execution_count": 52,
   "id": "862baf00",
   "metadata": {
    "execution": {
     "iopub.execute_input": "2024-10-29T13:53:59.088274Z",
     "iopub.status.busy": "2024-10-29T13:53:59.087912Z",
     "iopub.status.idle": "2024-10-29T13:53:59.094216Z",
     "shell.execute_reply": "2024-10-29T13:53:59.093053Z",
     "shell.execute_reply.started": "2024-10-29T13:53:59.088247Z"
    }
   },
   "outputs": [
    {
     "name": "stdout",
     "output_type": "stream",
     "text": [
      "1.886633608487478e-16 -0.05235602422811987 1.7415079462961335e-16\n"
     ]
    }
   ],
   "source": [
    "print(cmx_c, cmy_c, cmz_c)"
   ]
  },
  {
   "cell_type": "markdown",
   "id": "17b60ea6",
   "metadata": {},
   "source": [
    "#### Using x, y, z, we get the correct position at t=0:"
   ]
  },
  {
   "cell_type": "code",
   "execution_count": 53,
   "id": "ef04a59d",
   "metadata": {
    "execution": {
     "iopub.execute_input": "2024-10-29T13:53:59.157192Z",
     "iopub.status.busy": "2024-10-29T13:53:59.156977Z",
     "iopub.status.idle": "2024-10-29T13:53:59.171441Z",
     "shell.execute_reply": "2024-10-29T13:53:59.170676Z",
     "shell.execute_reply.started": "2024-10-29T13:53:59.157177Z"
    }
   },
   "outputs": [],
   "source": [
    "#Centre of mass - second\n",
    "\n",
    "cmx_c2 = np.sum(np.sum(np.sum(rho3D*tr13D,axis=2),axis=1)*(x_mid))/np.sum(rho3D*tr13D)\n",
    "cmy_c2 = np.sum(np.sum(np.sum(rho3D*tr13D,axis=2),axis=0)*(y_mid))/np.sum(rho3D*tr13D)\n",
    "cmz_c2 = np.sum(np.sum(np.sum(rho3D*tr13D,axis=1),axis=0)*(z_mid))/np.sum(rho3D*tr13D) "
   ]
  },
  {
   "cell_type": "code",
   "execution_count": 54,
   "id": "bbfc2756",
   "metadata": {
    "execution": {
     "iopub.execute_input": "2024-10-29T13:53:59.191540Z",
     "iopub.status.busy": "2024-10-29T13:53:59.191299Z",
     "iopub.status.idle": "2024-10-29T13:53:59.196209Z",
     "shell.execute_reply": "2024-10-29T13:53:59.195192Z",
     "shell.execute_reply.started": "2024-10-29T13:53:59.191512Z"
    }
   },
   "outputs": [
    {
     "name": "stdout",
     "output_type": "stream",
     "text": [
      "0.0 0.0 0.0\n"
     ]
    }
   ],
   "source": [
    "print(cmx_c2, cmy_c2, cmz_c2)"
   ]
  },
  {
   "cell_type": "markdown",
   "id": "5d705644",
   "metadata": {},
   "source": [
    "### Centre of mass of the rho2D_48 slice"
   ]
  },
  {
   "cell_type": "code",
   "execution_count": 55,
   "id": "9b00d86d",
   "metadata": {
    "execution": {
     "iopub.execute_input": "2024-10-29T13:53:59.252936Z",
     "iopub.status.busy": "2024-10-29T13:53:59.252735Z",
     "iopub.status.idle": "2024-10-29T13:53:59.257393Z",
     "shell.execute_reply": "2024-10-29T13:53:59.256369Z",
     "shell.execute_reply.started": "2024-10-29T13:53:59.252921Z"
    }
   },
   "outputs": [
    {
     "name": "stdout",
     "output_type": "stream",
     "text": [
      "(192, 96)\n",
      "(192, 96)\n",
      "(96,)\n"
     ]
    }
   ],
   "source": [
    "print(rho2D_48.shape)\n",
    "print(tr12D_48.shape)\n",
    "print(x_mid.shape)"
   ]
  },
  {
   "cell_type": "code",
   "execution_count": 56,
   "id": "040cbf80",
   "metadata": {
    "execution": {
     "iopub.execute_input": "2024-10-29T13:53:59.284189Z",
     "iopub.status.busy": "2024-10-29T13:53:59.282706Z",
     "iopub.status.idle": "2024-10-29T13:53:59.288284Z",
     "shell.execute_reply": "2024-10-29T13:53:59.287168Z",
     "shell.execute_reply.started": "2024-10-29T13:53:59.284161Z"
    }
   },
   "outputs": [
    {
     "name": "stdout",
     "output_type": "stream",
     "text": [
      "(96,) (192,)\n"
     ]
    }
   ],
   "source": [
    "print(np.shape(x_mid), np.shape(y_mid))"
   ]
  },
  {
   "cell_type": "code",
   "execution_count": 57,
   "id": "2b5c3b2e",
   "metadata": {
    "execution": {
     "iopub.execute_input": "2024-10-29T13:53:59.322880Z",
     "iopub.status.busy": "2024-10-29T13:53:59.322378Z",
     "iopub.status.idle": "2024-10-29T13:53:59.327545Z",
     "shell.execute_reply": "2024-10-29T13:53:59.326656Z",
     "shell.execute_reply.started": "2024-10-29T13:53:59.322860Z"
    }
   },
   "outputs": [],
   "source": [
    "cx_2D = np.sum(np.sum(rho2D_48*tr12D_48,axis=0)*(x_mid))/np.sum(rho2D_48*tr12D_48)\n",
    "cy_2D = np.sum(np.sum(rho2D_48*tr12D_48,axis=1)*(y_mid))/np.sum(rho2D_48*tr12D_48)"
   ]
  },
  {
   "cell_type": "code",
   "execution_count": 58,
   "id": "048bcfcd",
   "metadata": {
    "execution": {
     "iopub.execute_input": "2024-10-29T13:53:59.349807Z",
     "iopub.status.busy": "2024-10-29T13:53:59.349562Z",
     "iopub.status.idle": "2024-10-29T13:53:59.354581Z",
     "shell.execute_reply": "2024-10-29T13:53:59.353501Z",
     "shell.execute_reply.started": "2024-10-29T13:53:59.349790Z"
    }
   },
   "outputs": [
    {
     "name": "stdout",
     "output_type": "stream",
     "text": [
      "0.0 0.0\n"
     ]
    }
   ],
   "source": [
    "print(cx_2D, cy_2D)"
   ]
  }
 ],
 "metadata": {
  "kernelspec": {
   "display_name": "Python 3 (ipykernel)",
   "language": "python",
   "name": "python3"
  },
  "language_info": {
   "codemirror_mode": {
    "name": "ipython",
    "version": 3
   },
   "file_extension": ".py",
   "mimetype": "text/x-python",
   "name": "python",
   "nbconvert_exporter": "python",
   "pygments_lexer": "ipython3",
   "version": "3.9.20"
  }
 },
 "nbformat": 4,
 "nbformat_minor": 5
}
